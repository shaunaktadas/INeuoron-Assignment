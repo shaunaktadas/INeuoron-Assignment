{
 "cells": [
  {
   "cell_type": "markdown",
   "id": "98cf1032",
   "metadata": {},
   "source": [
    "# Assignment No. 1"
   ]
  },
  {
   "cell_type": "markdown",
   "id": "b0c2e2ec",
   "metadata": {},
   "source": [
    "## 1. Find out all the types of error that we have encountered in our lecture and why? Also include the examples."
   ]
  },
  {
   "cell_type": "code",
   "execution_count": 1,
   "id": "3b2ffd58",
   "metadata": {},
   "outputs": [],
   "source": [
    "TEN = 10\n",
    "ten = 20\n",
    "# TEN and ten both are different in terms of lowercase and uppercase letter\n"
   ]
  },
  {
   "cell_type": "code",
   "execution_count": 2,
   "id": "dadd5f97",
   "metadata": {},
   "outputs": [
    {
     "ename": "NameError",
     "evalue": "name 'Ten' is not defined",
     "output_type": "error",
     "traceback": [
      "\u001b[1;31m---------------------------------------------------------------------------\u001b[0m",
      "\u001b[1;31mNameError\u001b[0m                                 Traceback (most recent call last)",
      "Cell \u001b[1;32mIn[2], line 1\u001b[0m\n\u001b[1;32m----> 1\u001b[0m \u001b[38;5;28mprint\u001b[39m(\u001b[43mTen\u001b[49m)\n",
      "\u001b[1;31mNameError\u001b[0m: name 'Ten' is not defined"
     ]
    }
   ],
   "source": [
    "print(Ten)"
   ]
  },
  {
   "cell_type": "code",
   "execution_count": null,
   "id": "c503914a",
   "metadata": {},
   "outputs": [],
   "source": [
    "# showing error because \"Ten\" is the differnt word there is T capital letter."
   ]
  },
  {
   "cell_type": "code",
   "execution_count": null,
   "id": "b1d7c123",
   "metadata": {},
   "outputs": [],
   "source": [
    "# > We should not use reserved words as a variables names\n",
    "# > Also python doesn't restrict the user to use resereved names as a variable name"
   ]
  },
  {
   "cell_type": "markdown",
   "id": "c730b190",
   "metadata": {},
   "source": [
    "#### Example:-"
   ]
  },
  {
   "cell_type": "code",
   "execution_count": null,
   "id": "0c8b5ade",
   "metadata": {},
   "outputs": [],
   "source": [
    "print (\"Hi there\")"
   ]
  },
  {
   "cell_type": "code",
   "execution_count": null,
   "id": "dd2b68d9",
   "metadata": {},
   "outputs": [],
   "source": [
    "print = \"Hi  there\" #as a variable"
   ]
  },
  {
   "cell_type": "code",
   "execution_count": null,
   "id": "f4e53bc3",
   "metadata": {},
   "outputs": [],
   "source": [
    "print (\"Hi there\")"
   ]
  },
  {
   "cell_type": "code",
   "execution_count": null,
   "id": "8bfd0c97",
   "metadata": {},
   "outputs": [],
   "source": [
    "# getting error \"print\" variable cannot be used as ordinary identifiers. it is a resereved variable"
   ]
  },
  {
   "cell_type": "markdown",
   "id": "834f638f",
   "metadata": {},
   "source": [
    "#### Getting Error without convert \"int\" and \"str\""
   ]
  },
  {
   "cell_type": "code",
   "execution_count": null,
   "id": "5ee8bff0",
   "metadata": {},
   "outputs": [],
   "source": [
    "#Example:-"
   ]
  },
  {
   "cell_type": "code",
   "execution_count": null,
   "id": "91d8c4ea",
   "metadata": {},
   "outputs": [],
   "source": [
    "A = int(input(\"Enter the value of A: \"))\n",
    "B = input(\"Enter the value of B: \")\n",
    "\n",
    "print(type(A), type(B))"
   ]
  },
  {
   "cell_type": "code",
   "execution_count": null,
   "id": "97cab353",
   "metadata": {},
   "outputs": [],
   "source": [
    "print(f\"Sum of A and B is: {A+B}\")"
   ]
  },
  {
   "cell_type": "code",
   "execution_count": null,
   "id": "d6c44ffe",
   "metadata": {},
   "outputs": [],
   "source": [
    "# need to convert \"int\" to \"int\""
   ]
  },
  {
   "cell_type": "code",
   "execution_count": null,
   "id": "988b73a1",
   "metadata": {},
   "outputs": [],
   "source": [
    "A = int(input(\"Enter the value of A: \"))\n",
    "B = int(input(\"Enter the value of B: \"))\n",
    "\n",
    "print(type(A), type(B))"
   ]
  },
  {
   "cell_type": "code",
   "execution_count": null,
   "id": "5ae835af",
   "metadata": {},
   "outputs": [],
   "source": [
    "print(f\"Sum of A and B is: {A+B}\")"
   ]
  },
  {
   "cell_type": "code",
   "execution_count": null,
   "id": "82332a16",
   "metadata": {},
   "outputs": [],
   "source": [
    "A = float(input(\"Enter the value of A: \"))\n",
    "B = int(input(\"Enter the value of B: \"))\n",
    "Print (f\"Sum of A and B is: {A+B}\" )"
   ]
  },
  {
   "cell_type": "code",
   "execution_count": null,
   "id": "39e82bd9",
   "metadata": {},
   "outputs": [],
   "source": [
    "#To fix this error need to convert both to Float"
   ]
  },
  {
   "cell_type": "code",
   "execution_count": null,
   "id": "ec4b72bd",
   "metadata": {},
   "outputs": [],
   "source": [
    "A = float(input(\"Enter the value of A: \"))\n",
    "B = float(input(\"Enter the value of B: \"))\n",
    "print(f\"Sum of A and B is: {A+B}\")"
   ]
  },
  {
   "cell_type": "markdown",
   "id": "ea86d49f",
   "metadata": {},
   "source": [
    "## 2. Take input A and B and print their sum, mul, div, square of the nos."
   ]
  },
  {
   "cell_type": "code",
   "execution_count": null,
   "id": "42fe5c5c",
   "metadata": {},
   "outputs": [],
   "source": [
    "A = 5\n",
    "B = 2"
   ]
  },
  {
   "cell_type": "code",
   "execution_count": null,
   "id": "75245d15",
   "metadata": {},
   "outputs": [],
   "source": [
    "A+B"
   ]
  },
  {
   "cell_type": "code",
   "execution_count": null,
   "id": "3adae0e4",
   "metadata": {},
   "outputs": [],
   "source": [
    "A*B"
   ]
  },
  {
   "cell_type": "code",
   "execution_count": null,
   "id": "52fd1822",
   "metadata": {},
   "outputs": [],
   "source": [
    "A/B"
   ]
  },
  {
   "cell_type": "code",
   "execution_count": null,
   "id": "7bd077fc",
   "metadata": {},
   "outputs": [],
   "source": [
    "A**B"
   ]
  },
  {
   "cell_type": "markdown",
   "id": "6098e201",
   "metadata": {},
   "source": [
    "## 3. How many reserve keywords are there in python and why we should not use them as a variable name."
   ]
  },
  {
   "cell_type": "code",
   "execution_count": null,
   "id": "81461b51",
   "metadata": {},
   "outputs": [],
   "source": [
    "# The followings are the reserved variables or keywords and cannot be used as ordinary identifiers.They must be spelled exactly as written here :- \n",
    "# and       del       from      not       while    \n",
    "# as        elif      global    or        with     \n",
    "# assert    else      if        pass      yield    \n",
    "# break     except    import    print              \n",
    "# class     exec      in        raise              \n",
    "# continue  finally   is        return             \n",
    "# def       for       lambda    try"
   ]
  },
  {
   "cell_type": "markdown",
   "id": "5df3ce09",
   "metadata": {},
   "source": [
    "## 4. Create email ids with the user inputs. in the following format -"
   ]
  },
  {
   "cell_type": "code",
   "execution_count": null,
   "id": "63faed14",
   "metadata": {},
   "outputs": [],
   "source": [
    "# lastname.firstname@gmail.com"
   ]
  },
  {
   "cell_type": "code",
   "execution_count": null,
   "id": "af0fb04e",
   "metadata": {},
   "outputs": [],
   "source": [
    "firstname = input(\"First Name: \")\n",
    "lastname = input(\"Last Name: \")\n",
    "\n",
    "print (f\"{lastname}.{firstname}@gmail.com\")"
   ]
  },
  {
   "cell_type": "markdown",
   "id": "f46a46ba",
   "metadata": {},
   "source": [
    "# # 5. Try to print the following lines -\n",
    "  - Hi I'm Sunny\n",
    "  - My address is 22\\3\n",
    "  - I earn 20$ daily."
   ]
  },
  {
   "cell_type": "code",
   "execution_count": null,
   "id": "7b1b43cb",
   "metadata": {},
   "outputs": [],
   "source": [
    "name, adress, earning = \"Sunny\", \"22\\ 3\", 20\n",
    "print(f\"\"\"\n",
    "Hi I'm {name}\n",
    "My adress is {adress}\n",
    "I earn {earning}$ daily.\n",
    "\"\"\")"
   ]
  },
  {
   "cell_type": "markdown",
   "id": "9029c76c",
   "metadata": {},
   "source": [
    "# # 6. Take user input (name, address, date of birth etc) to fill a form for your college and print their email IDs\n"
   ]
  },
  {
   "cell_type": "code",
   "execution_count": null,
   "id": "2fddf73e",
   "metadata": {},
   "outputs": [],
   "source": [
    "name = input(\"Name: \")\n",
    "address = input(\"Address: \")\n",
    "date_of_birth = input(\"Date of birth: \")\n",
    "email = input(\"email: \")\n",
    "print(f\"student email id is: {email} \")"
   ]
  },
  {
   "cell_type": "markdown",
   "id": "5bf45e79",
   "metadata": {},
   "source": [
    "## 7. Convert the following -\n",
    "  - \"22.4\" into integer\n",
    "  - \"22\" into complex no."
   ]
  },
  {
   "cell_type": "code",
   "execution_count": null,
   "id": "16335253",
   "metadata": {},
   "outputs": [],
   "source": [
    "A = 22.4\n",
    "B = 22\n",
    "type(A), type(B)"
   ]
  },
  {
   "cell_type": "code",
   "execution_count": null,
   "id": "cc3efd8f",
   "metadata": {},
   "outputs": [],
   "source": [
    "#\"22\" into complex no."
   ]
  },
  {
   "cell_type": "code",
   "execution_count": null,
   "id": "f256f5ef",
   "metadata": {},
   "outputs": [],
   "source": [
    "B"
   ]
  },
  {
   "cell_type": "code",
   "execution_count": 6,
   "id": "43f6732a",
   "metadata": {},
   "outputs": [
    {
     "name": "stdout",
     "output_type": "stream",
     "text": [
      "type(B)\n"
     ]
    },
    {
     "data": {
      "text/plain": [
       "complex"
      ]
     },
     "execution_count": 6,
     "metadata": {},
     "output_type": "execute_result"
    }
   ],
   "source": [
    "B=22\n",
    "B = complex(B)\n",
    "print (\"type(B)\")\n",
    "type (B)\n"
   ]
  },
  {
   "cell_type": "code",
   "execution_count": null,
   "id": "96acc840",
   "metadata": {},
   "outputs": [],
   "source": []
  }
 ],
 "metadata": {
  "kernelspec": {
   "display_name": "Python 3 (ipykernel)",
   "language": "python",
   "name": "python3"
  },
  "language_info": {
   "codemirror_mode": {
    "name": "ipython",
    "version": 3
   },
   "file_extension": ".py",
   "mimetype": "text/x-python",
   "name": "python",
   "nbconvert_exporter": "python",
   "pygments_lexer": "ipython3",
   "version": "3.10.9"
  }
 },
 "nbformat": 4,
 "nbformat_minor": 5
}
